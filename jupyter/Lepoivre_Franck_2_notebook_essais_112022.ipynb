{
 "cells": [
  {
   "attachments": {},
   "cell_type": "markdown",
   "metadata": {},
   "source": [
    "# **Olist Customer Segmentation Modeling**"
   ]
  },
  {
   "attachments": {},
   "cell_type": "markdown",
   "metadata": {},
   "source": [
    "# Dataset selections"
   ]
  },
  {
   "attachments": {},
   "cell_type": "markdown",
   "metadata": {},
   "source": [
    "## Customer table with R, F, M features"
   ]
  },
  {
   "cell_type": "code",
   "execution_count": 1,
   "metadata": {},
   "outputs": [
    {
     "ename": "TypeError",
     "evalue": "unsupported operand type(s) for +: 'int' and 'str'",
     "output_type": "error",
     "traceback": [
      "\u001b[1;31m---------------------------------------------------------------------------\u001b[0m",
      "\u001b[1;31mTypeError\u001b[0m                                 Traceback (most recent call last)",
      "\u001b[1;32mc:\\Users\\franc\\Projects\\pepper_olist_market_segmentation\\jupyter\\Lepoivre_Franck_1_notebook_essais_112022.ipynb Cell 4\u001b[0m in \u001b[0;36m<cell line: 9>\u001b[1;34m()\u001b[0m\n\u001b[0;32m      <a href='vscode-notebook-cell:/c%3A/Users/franc/Projects/pepper_olist_market_segmentation/jupyter/Lepoivre_Franck_1_notebook_essais_112022.ipynb#W3sZmlsZQ%3D%3D?line=6'>7</a>\u001b[0m from_date \u001b[39m=\u001b[39m get_first_order_date() \u001b[39m# + pd.Timedelta('3 day')\u001b[39;00m\n\u001b[0;32m      <a href='vscode-notebook-cell:/c%3A/Users/franc/Projects/pepper_olist_market_segmentation/jupyter/Lepoivre_Franck_1_notebook_essais_112022.ipynb#W3sZmlsZQ%3D%3D?line=7'>8</a>\u001b[0m to_date \u001b[39m=\u001b[39m get_last_order_date() \u001b[39m# - pd.Timedelta('3 day')\u001b[39;00m\n\u001b[1;32m----> <a href='vscode-notebook-cell:/c%3A/Users/franc/Projects/pepper_olist_market_segmentation/jupyter/Lepoivre_Franck_1_notebook_essais_112022.ipynb#W3sZmlsZQ%3D%3D?line=8'>9</a>\u001b[0m crfm \u001b[39m=\u001b[39m get_customer_RFM(from_date, to_date)\n\u001b[0;32m     <a href='vscode-notebook-cell:/c%3A/Users/franc/Projects/pepper_olist_market_segmentation/jupyter/Lepoivre_Franck_1_notebook_essais_112022.ipynb#W3sZmlsZQ%3D%3D?line=9'>10</a>\u001b[0m display(crfm)\n\u001b[0;32m     <a href='vscode-notebook-cell:/c%3A/Users/franc/Projects/pepper_olist_market_segmentation/jupyter/Lepoivre_Franck_1_notebook_essais_112022.ipynb#W3sZmlsZQ%3D%3D?line=11'>12</a>\u001b[0m \u001b[39m# removing of outliers\u001b[39;00m\n",
      "File \u001b[1;32mc:\\Users\\franc\\Projects\\pepper_olist_market_segmentation\\jupyter\\olist_commons.py:768\u001b[0m, in \u001b[0;36mget_customer_RFM\u001b[1;34m(from_date, to_date)\u001b[0m\n\u001b[0;32m    753\u001b[0m \u001b[39mdef\u001b[39;00m \u001b[39mget_customer_RFM\u001b[39m(\n\u001b[0;32m    754\u001b[0m         from_date\u001b[39m=\u001b[39mget_first_order_date(),\n\u001b[0;32m    755\u001b[0m         to_date\u001b[39m=\u001b[39mget_last_order_date()\n\u001b[0;32m    756\u001b[0m ):\n\u001b[0;32m    757\u001b[0m     \u001b[39m\"\"\"\u001b[39;00m\n\u001b[0;32m    758\u001b[0m \u001b[39m    Return a dataframe containing\u001b[39;00m\n\u001b[0;32m    759\u001b[0m \u001b[39m    RFM (Recency, Frequency, Monetary) values for each customer.\u001b[39;00m\n\u001b[1;32m   (...)\u001b[0m\n\u001b[0;32m    766\u001b[0m \u001b[39m    containing the RFM values for each customer.\u001b[39;00m\n\u001b[0;32m    767\u001b[0m \u001b[39m    \"\"\"\u001b[39;00m\n\u001b[1;32m--> 768\u001b[0m     cor \u001b[39m=\u001b[39m get_customer_order_recency(from_date, to_date)\n\u001b[0;32m    769\u001b[0m     cofa \u001b[39m=\u001b[39m get_customer_order_freqs_and_amount(from_date, to_date)\n\u001b[0;32m    770\u001b[0m     crfm \u001b[39m=\u001b[39m pd\u001b[39m.\u001b[39mmerge(\n\u001b[0;32m    771\u001b[0m         cor[[\u001b[39m'\u001b[39m\u001b[39morder_age\u001b[39m\u001b[39m'\u001b[39m]], cofa,\n\u001b[0;32m    772\u001b[0m         how\u001b[39m=\u001b[39m\u001b[39m'\u001b[39m\u001b[39mouter\u001b[39m\u001b[39m'\u001b[39m, on\u001b[39m=\u001b[39m\u001b[39m'\u001b[39m\u001b[39mcustomer_unique_id\u001b[39m\u001b[39m'\u001b[39m\n\u001b[0;32m    773\u001b[0m     )\n",
      "File \u001b[1;32mc:\\Users\\franc\\Projects\\pepper_olist_market_segmentation\\jupyter\\olist_commons.py:705\u001b[0m, in \u001b[0;36mget_customer_order_recency\u001b[1;34m(from_date, to_date)\u001b[0m\n\u001b[0;32m    701\u001b[0m \u001b[39mdef\u001b[39;00m \u001b[39mget_customer_order_recency\u001b[39m(\n\u001b[0;32m    702\u001b[0m         from_date\u001b[39m=\u001b[39mget_first_order_date(),\n\u001b[0;32m    703\u001b[0m         to_date\u001b[39m=\u001b[39mget_last_order_date()\n\u001b[0;32m    704\u001b[0m ):\n\u001b[1;32m--> 705\u001b[0m     cop \u001b[39m=\u001b[39m get_customer_order_payment()\n\u001b[0;32m    706\u001b[0m     order_age \u001b[39m=\u001b[39m get_order_ages(get_last_order_date())\n\u001b[0;32m    707\u001b[0m     copa \u001b[39m=\u001b[39m pd\u001b[39m.\u001b[39mconcat([cop, order_age], axis\u001b[39m=\u001b[39m\u001b[39m1\u001b[39m)\n",
      "File \u001b[1;32mc:\\Users\\franc\\Projects\\pepper_olist_market_segmentation\\jupyter\\olist_commons.py:625\u001b[0m, in \u001b[0;36mget_customer_order_payment\u001b[1;34m()\u001b[0m\n\u001b[0;32m    618\u001b[0m orders \u001b[39m=\u001b[39m get_raw_orders()[\n\u001b[0;32m    619\u001b[0m     [\u001b[39m'\u001b[39m\u001b[39morder_id\u001b[39m\u001b[39m'\u001b[39m, \u001b[39m'\u001b[39m\u001b[39mcustomer_id\u001b[39m\u001b[39m'\u001b[39m, \u001b[39m'\u001b[39m\u001b[39morder_purchase_timestamp\u001b[39m\u001b[39m'\u001b[39m]\n\u001b[0;32m    620\u001b[0m ]\n\u001b[0;32m    621\u001b[0m orders\u001b[39m.\u001b[39morder_purchase_timestamp \u001b[39m=\u001b[39m (\n\u001b[0;32m    622\u001b[0m     orders\u001b[39m.\u001b[39morder_purchase_timestamp\n\u001b[0;32m    623\u001b[0m     \u001b[39m.\u001b[39mastype(\u001b[39m'\u001b[39m\u001b[39mdatetime64[ns]\u001b[39m\u001b[39m'\u001b[39m)\n\u001b[0;32m    624\u001b[0m )\n\u001b[1;32m--> 625\u001b[0m agg_order_payments \u001b[39m=\u001b[39m get_aggregated_order_payments()[[\u001b[39m'\u001b[39m\u001b[39mpayment_total\u001b[39m\u001b[39m'\u001b[39m]]\n\u001b[0;32m    626\u001b[0m m \u001b[39m=\u001b[39m pd\u001b[39m.\u001b[39mmerge(customers, orders, how\u001b[39m=\u001b[39m\u001b[39m'\u001b[39m\u001b[39mouter\u001b[39m\u001b[39m'\u001b[39m, on\u001b[39m=\u001b[39m\u001b[39m'\u001b[39m\u001b[39mcustomer_id\u001b[39m\u001b[39m'\u001b[39m)\n\u001b[0;32m    627\u001b[0m m \u001b[39m=\u001b[39m pd\u001b[39m.\u001b[39mmerge(m, agg_order_payments, how\u001b[39m=\u001b[39m\u001b[39m'\u001b[39m\u001b[39mouter\u001b[39m\u001b[39m'\u001b[39m, on\u001b[39m=\u001b[39m\u001b[39m'\u001b[39m\u001b[39morder_id\u001b[39m\u001b[39m'\u001b[39m)\n",
      "File \u001b[1;32mc:\\Users\\franc\\Projects\\pepper_olist_market_segmentation\\jupyter\\olist_commons.py:563\u001b[0m, in \u001b[0;36mget_aggregated_order_payments\u001b[1;34m()\u001b[0m\n\u001b[0;32m    556\u001b[0m \u001b[39m# Add columns for the payment count and total value\u001b[39;00m\n\u001b[0;32m    557\u001b[0m op_gpby\u001b[39m.\u001b[39minsert(\n\u001b[0;32m    558\u001b[0m     \u001b[39m0\u001b[39m, \u001b[39m'\u001b[39m\u001b[39mpayment_count\u001b[39m\u001b[39m'\u001b[39m,\n\u001b[0;32m    559\u001b[0m     op_gpby\u001b[39m.\u001b[39mpayment_sequential\u001b[39m.\u001b[39mapply(\u001b[39mlambda\u001b[39;00m x: \u001b[39mlen\u001b[39m(x))\n\u001b[0;32m    560\u001b[0m )\n\u001b[0;32m    561\u001b[0m op_gpby\u001b[39m.\u001b[39minsert(\n\u001b[0;32m    562\u001b[0m     \u001b[39m1\u001b[39m, \u001b[39m'\u001b[39m\u001b[39mpayment_total\u001b[39m\u001b[39m'\u001b[39m,\n\u001b[1;32m--> 563\u001b[0m     op_gpby\u001b[39m.\u001b[39;49mpayment_value\u001b[39m.\u001b[39;49mapply(\u001b[39mlambda\u001b[39;49;00m x: \u001b[39msum\u001b[39;49m(x))\n\u001b[0;32m    564\u001b[0m )\n\u001b[0;32m    566\u001b[0m \u001b[39mreturn\u001b[39;00m op_gpby\n",
      "File \u001b[1;32mc:\\Users\\franc\\anaconda3\\lib\\site-packages\\pandas\\core\\series.py:4433\u001b[0m, in \u001b[0;36mSeries.apply\u001b[1;34m(self, func, convert_dtype, args, **kwargs)\u001b[0m\n\u001b[0;32m   4323\u001b[0m \u001b[39mdef\u001b[39;00m \u001b[39mapply\u001b[39m(\n\u001b[0;32m   4324\u001b[0m     \u001b[39mself\u001b[39m,\n\u001b[0;32m   4325\u001b[0m     func: AggFuncType,\n\u001b[1;32m   (...)\u001b[0m\n\u001b[0;32m   4328\u001b[0m     \u001b[39m*\u001b[39m\u001b[39m*\u001b[39mkwargs,\n\u001b[0;32m   4329\u001b[0m ) \u001b[39m-\u001b[39m\u001b[39m>\u001b[39m DataFrame \u001b[39m|\u001b[39m Series:\n\u001b[0;32m   4330\u001b[0m     \u001b[39m\"\"\"\u001b[39;00m\n\u001b[0;32m   4331\u001b[0m \u001b[39m    Invoke function on values of Series.\u001b[39;00m\n\u001b[0;32m   4332\u001b[0m \n\u001b[1;32m   (...)\u001b[0m\n\u001b[0;32m   4431\u001b[0m \u001b[39m    dtype: float64\u001b[39;00m\n\u001b[0;32m   4432\u001b[0m \u001b[39m    \"\"\"\u001b[39;00m\n\u001b[1;32m-> 4433\u001b[0m     \u001b[39mreturn\u001b[39;00m SeriesApply(\u001b[39mself\u001b[39;49m, func, convert_dtype, args, kwargs)\u001b[39m.\u001b[39;49mapply()\n",
      "File \u001b[1;32mc:\\Users\\franc\\anaconda3\\lib\\site-packages\\pandas\\core\\apply.py:1082\u001b[0m, in \u001b[0;36mSeriesApply.apply\u001b[1;34m(self)\u001b[0m\n\u001b[0;32m   1078\u001b[0m \u001b[39mif\u001b[39;00m \u001b[39misinstance\u001b[39m(\u001b[39mself\u001b[39m\u001b[39m.\u001b[39mf, \u001b[39mstr\u001b[39m):\n\u001b[0;32m   1079\u001b[0m     \u001b[39m# if we are a string, try to dispatch\u001b[39;00m\n\u001b[0;32m   1080\u001b[0m     \u001b[39mreturn\u001b[39;00m \u001b[39mself\u001b[39m\u001b[39m.\u001b[39mapply_str()\n\u001b[1;32m-> 1082\u001b[0m \u001b[39mreturn\u001b[39;00m \u001b[39mself\u001b[39;49m\u001b[39m.\u001b[39;49mapply_standard()\n",
      "File \u001b[1;32mc:\\Users\\franc\\anaconda3\\lib\\site-packages\\pandas\\core\\apply.py:1137\u001b[0m, in \u001b[0;36mSeriesApply.apply_standard\u001b[1;34m(self)\u001b[0m\n\u001b[0;32m   1131\u001b[0m         values \u001b[39m=\u001b[39m obj\u001b[39m.\u001b[39mastype(\u001b[39mobject\u001b[39m)\u001b[39m.\u001b[39m_values\n\u001b[0;32m   1132\u001b[0m         \u001b[39m# error: Argument 2 to \"map_infer\" has incompatible type\u001b[39;00m\n\u001b[0;32m   1133\u001b[0m         \u001b[39m# \"Union[Callable[..., Any], str, List[Union[Callable[..., Any], str]],\u001b[39;00m\n\u001b[0;32m   1134\u001b[0m         \u001b[39m# Dict[Hashable, Union[Union[Callable[..., Any], str],\u001b[39;00m\n\u001b[0;32m   1135\u001b[0m         \u001b[39m# List[Union[Callable[..., Any], str]]]]]\"; expected\u001b[39;00m\n\u001b[0;32m   1136\u001b[0m         \u001b[39m# \"Callable[[Any], Any]\"\u001b[39;00m\n\u001b[1;32m-> 1137\u001b[0m         mapped \u001b[39m=\u001b[39m lib\u001b[39m.\u001b[39;49mmap_infer(\n\u001b[0;32m   1138\u001b[0m             values,\n\u001b[0;32m   1139\u001b[0m             f,  \u001b[39m# type: ignore[arg-type]\u001b[39;49;00m\n\u001b[0;32m   1140\u001b[0m             convert\u001b[39m=\u001b[39;49m\u001b[39mself\u001b[39;49m\u001b[39m.\u001b[39;49mconvert_dtype,\n\u001b[0;32m   1141\u001b[0m         )\n\u001b[0;32m   1143\u001b[0m \u001b[39mif\u001b[39;00m \u001b[39mlen\u001b[39m(mapped) \u001b[39mand\u001b[39;00m \u001b[39misinstance\u001b[39m(mapped[\u001b[39m0\u001b[39m], ABCSeries):\n\u001b[0;32m   1144\u001b[0m     \u001b[39m# GH#43986 Need to do list(mapped) in order to get treated as nested\u001b[39;00m\n\u001b[0;32m   1145\u001b[0m     \u001b[39m#  See also GH#25959 regarding EA support\u001b[39;00m\n\u001b[0;32m   1146\u001b[0m     \u001b[39mreturn\u001b[39;00m obj\u001b[39m.\u001b[39m_constructor_expanddim(\u001b[39mlist\u001b[39m(mapped), index\u001b[39m=\u001b[39mobj\u001b[39m.\u001b[39mindex)\n",
      "File \u001b[1;32mc:\\Users\\franc\\anaconda3\\lib\\site-packages\\pandas\\_libs\\lib.pyx:2870\u001b[0m, in \u001b[0;36mpandas._libs.lib.map_infer\u001b[1;34m()\u001b[0m\n",
      "File \u001b[1;32mc:\\Users\\franc\\Projects\\pepper_olist_market_segmentation\\jupyter\\olist_commons.py:563\u001b[0m, in \u001b[0;36mget_aggregated_order_payments.<locals>.<lambda>\u001b[1;34m(x)\u001b[0m\n\u001b[0;32m    556\u001b[0m \u001b[39m# Add columns for the payment count and total value\u001b[39;00m\n\u001b[0;32m    557\u001b[0m op_gpby\u001b[39m.\u001b[39minsert(\n\u001b[0;32m    558\u001b[0m     \u001b[39m0\u001b[39m, \u001b[39m'\u001b[39m\u001b[39mpayment_count\u001b[39m\u001b[39m'\u001b[39m,\n\u001b[0;32m    559\u001b[0m     op_gpby\u001b[39m.\u001b[39mpayment_sequential\u001b[39m.\u001b[39mapply(\u001b[39mlambda\u001b[39;00m x: \u001b[39mlen\u001b[39m(x))\n\u001b[0;32m    560\u001b[0m )\n\u001b[0;32m    561\u001b[0m op_gpby\u001b[39m.\u001b[39minsert(\n\u001b[0;32m    562\u001b[0m     \u001b[39m1\u001b[39m, \u001b[39m'\u001b[39m\u001b[39mpayment_total\u001b[39m\u001b[39m'\u001b[39m,\n\u001b[1;32m--> 563\u001b[0m     op_gpby\u001b[39m.\u001b[39mpayment_value\u001b[39m.\u001b[39mapply(\u001b[39mlambda\u001b[39;00m x: \u001b[39msum\u001b[39;49m(x))\n\u001b[0;32m    564\u001b[0m )\n\u001b[0;32m    566\u001b[0m \u001b[39mreturn\u001b[39;00m op_gpby\n",
      "\u001b[1;31mTypeError\u001b[0m: unsupported operand type(s) for +: 'int' and 'str'"
     ]
    }
   ],
   "source": [
    "import pandas as pd\n",
    "from olist_commons import (\n",
    "    get_first_order_date,\n",
    "    get_last_order_date,\n",
    "    get_customer_RFM,\n",
    ")\n",
    "from_date = get_first_order_date() # + pd.Timedelta('3 day')\n",
    "to_date = get_last_order_date() # - pd.Timedelta('3 day')\n",
    "crfm = get_customer_RFM(from_date, to_date)\n",
    "display(crfm)\n",
    "\n",
    "# removing of outliers\n",
    "crfm_1 = crfm[(crfm.F < 8) & (crfm.M < 10_000)]"
   ]
  }
 ],
 "metadata": {
  "kernelspec": {
   "display_name": "base",
   "language": "python",
   "name": "python3"
  },
  "language_info": {
   "codemirror_mode": {
    "name": "ipython",
    "version": 3
   },
   "file_extension": ".py",
   "mimetype": "text/x-python",
   "name": "python",
   "nbconvert_exporter": "python",
   "pygments_lexer": "ipython3",
   "version": "3.9.12"
  },
  "orig_nbformat": 4,
  "vscode": {
   "interpreter": {
    "hash": "e03b612d84ba21ce95ed447e81b3062e1eb99b56c6d885cdab4aaa12f1b8e240"
   }
  }
 },
 "nbformat": 4,
 "nbformat_minor": 2
}
