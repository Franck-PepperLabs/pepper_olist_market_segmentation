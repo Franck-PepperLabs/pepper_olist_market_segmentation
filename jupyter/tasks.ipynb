{
 "cells": [
  {
   "cell_type": "markdown",
   "metadata": {},
   "source": [
    "# 29/11/22 Restart\n",
    "\n",
    "(1.5) for all 3, simultaneously.\n",
    "* **1** Translate the milestone tasks into EN - number the milestone's tasks\n",
    "* **2** Translate my tasks into English\n",
    "* **3** For each task: two dates: entry, completion + time spent\n",
    "\n",
    "\n",
    "**4** (1.5) Do a first task: complete the join with order payments and order reviews: it took me longer than expected for 3 reasons:\n",
    "\n",
    "1. warming up after a week without code,\n",
    "2. pandas is not clear on the cross join,\n",
    "3. I haven't completed the PK analysis ⇒ come back to it later, here we have to move quickly, to cover the essentials and come back here in the context of iterations.\n",
    "\n",
    "# 30/11/22 More\n",
    "\n",
    "* ✔ **M1331** [21/11→30/11] (2.75) - `get_unique_customers()` : derived table of unique customers with their locations condensed into a single tree feature (dict : states > cities > zips > customer_ids).\n",
    "\n",
    "* ✔ **M1332** [21/11→30/11] (2.00) - `get_aggregated_order_payments()` : derived table of amount paid for an order, in one or more instalments : first step of feature engineering, with sum of order payments.\n",
    "\n",
    "* ✔ **M221** [30/11→30/11] (1.00) - `get_order_times()` : table of order processing time intervals in days (derived from `order` table).\n",
    "\n",
    "* ✔ **M222** [30/11→30/11] (0.50) - order count per customer.\n",
    "\n",
    "# 01/12/22 Start Milestone 2\n",
    "\n",
    "* ✔ **M223** [21/11→01/12] (3.00) - Focus first on a few features that make sense from a marketing point of view, to target more or less interesting customers in terms of sales: RFM (Recency: duration since last order, Frequency: number of orders, Amount : for example cumulative amount of orders) :\n",
    "    * `get_customer_order_payment`\n",
    "    * `get_[first|last]_order_date`\n",
    "    * `get_order_ages`\n",
    "    * `get_customer_order_freqs_and_amount`\n",
    "\n",
    "# 03/12/22 Transition to milestone 3\n",
    "\n",
    "* ✔  **M16** [02/12→03/12] (1.00) - Special case indexes :\n",
    "    * `get_unpaid_order_ids`\n",
    "    * `get_without_physical_features_product_ids`\n",
    "    * `get_without_marketing_features_product_ids`\n",
    "    * `get_unknown_product_ids`\n",
    "\n",
    "# 06/12/22 Start k-Means\n",
    "\n",
    "* ✔ **M311** [21/11→06/12] (0.75) - Custormer table with the R, F, M features :\n",
    "    * `get_order_ages_2`\n",
    "    * `get_customer_order_recency`\n",
    "    * `get_customer_RFM`\n",
    "* ✔ **M321** [21/11→06/12] (0.5) First run, with 3 scatters for each couple of features + first 3D plot\n",
    "* ✔ **M331** [21/11→06/12] (0.75) Adapt SKL example [**Selecting the number of clusters with silhouette analysis on KMeans clustering**](https://scikit-learn.org/stable/auto_examples/cluster/plot_kmeans_silhouette_analysis.html)\n",
    "\n",
    "1.5 sur l'affichage 3D : temps de mise au point nécessaire, c'est du graphisme, c'est toujours chronophage\n",
    "\n",
    "# 10/12/22 k-Means silhouette analysis\n",
    "\n",
    "* ✔ [21/11→10/12] (7.00) Construction of the complete K-Means clustering analysis with fine plots of the RFM data triplet, and run it for k=2 to 15 :\n",
    "    * `plot_clusters_2d`\n",
    "    * `plot_clusters_3d`\n",
    "    * `plot_silhouette`\n",
    "    * `plot_kmeans_rfm_clusters`\n",
    "    * `kmeans_analysis`\n",
    "   "
   ]
  }
 ],
 "metadata": {
  "kernelspec": {
   "display_name": "Python 3.9.12 ('base')",
   "language": "python",
   "name": "python3"
  },
  "language_info": {
   "name": "python",
   "version": "3.9.12"
  },
  "orig_nbformat": 4,
  "vscode": {
   "interpreter": {
    "hash": "e03b612d84ba21ce95ed447e81b3062e1eb99b56c6d885cdab4aaa12f1b8e240"
   }
  }
 },
 "nbformat": 4,
 "nbformat_minor": 2
}
