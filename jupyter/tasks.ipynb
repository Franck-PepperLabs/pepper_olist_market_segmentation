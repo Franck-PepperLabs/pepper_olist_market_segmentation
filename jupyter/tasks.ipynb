{
 "cells": [
  {
   "cell_type": "markdown",
   "metadata": {},
   "source": [
    "# 29/11/22 Restart\n",
    "\n",
    "(1.5) for all 3, simultaneously.\n",
    "* **1** Translate the milestone tasks into EN - number the milestone's tasks\n",
    "* **2** Translate my tasks into English\n",
    "* **3** For each task: two dates: entry, completion + time spent\n",
    "\n",
    "\n",
    "**4** (1.5) Do a first task: complete the join with order payments and order reviews: it took me longer than expected for 3 reasons:\n",
    "\n",
    "1. warming up after a week without code,\n",
    "2. pandas is not clear on the cross join,\n",
    "3. I haven't completed the PK analysis ⇒ come back to it later, here we have to move quickly, to cover the essentials and come back here in the context of iterations.\n",
    "\n",
    "# 30/11/22 More\n",
    "\n",
    "* ✔ **M1331** [21/11→30/11] (2.75) - `get_unique_customers()` : derived table of unique customers with their locations condensed into a single tree feature (dict : states > cities > zips > customer_ids).\n",
    "\n",
    "* ✔ **M1332** [21/11→30/11] (2.00) - `get_aggregated_order_payments()` : derived table of amount paid for an order, in one or more instalments : first step of feature engineering, with sum of order payments.\n",
    "\n",
    "* ✔ **M221** [30/11→30/11] (1.00) - `get_order_times()` : table of order processing time intervals in days (derived from `order` table).\n",
    "\n",
    "* ✔ **M222** [30/11→30/11] (0.50) - order count per customer.\n",
    "\n",
    "# 01/12/22 Start Milestone 2\n",
    "\n",
    "* ✔ **M223** [21/11→01/12] (3.00) - Focus first on a few features that make sense from a marketing point of view, to target more or less interesting customers in terms of sales: RFM (Recency: duration since last order, Frequency: number of orders, Amount : for example cumulative amount of orders) :\n",
    "    * `get_customer_order_payment`\n",
    "    * `get_[first|last]_order_date`\n",
    "    * `get_order_ages`\n",
    "    * `get_customer_order_freqs_and_amount`"
   ]
  }
 ],
 "metadata": {
  "kernelspec": {
   "display_name": "Python 3.9.12 ('base')",
   "language": "python",
   "name": "python3"
  },
  "language_info": {
   "name": "python",
   "version": "3.9.12"
  },
  "orig_nbformat": 4,
  "vscode": {
   "interpreter": {
    "hash": "e03b612d84ba21ce95ed447e81b3062e1eb99b56c6d885cdab4aaa12f1b8e240"
   }
  }
 },
 "nbformat": 4,
 "nbformat_minor": 2
}
