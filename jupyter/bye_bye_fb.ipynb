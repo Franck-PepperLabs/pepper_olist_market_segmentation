{
 "cells": [
  {
   "cell_type": "markdown",
   "metadata": {},
   "source": [
    "## Bye bye FB, le 27/11/22\n",
    "\n",
    "Hello les friends,\n",
    "\n",
    "Un dernier message avant de quitter FB définitivement (c'est-à-dire d'ici ce soir minuit, le dimanche 27/11/22).\n",
    "\n",
    "Toutes celles et ceux qui me connaissent vraiment ont au moins mon numéro de tél. qui est toujours le même qu’il y a 20 ans et pour les plus proches, nous nous voyons dans la vraie vie, qui reste le mode d’interaction sociale à privilégier.\n",
    "\n",
    "Idem avec Twitter sur lequel j’ai fait une excursion pour voir ces 6 derniers mois dans les circonstance d’un engagement fort dans la campagne électorale (oui, j’ai distribué des tracts sur le marché de Vaison-la-Romaine :)). Ce soir, je laisse Elon et sa clique avec leurs délires mégalomaniaques.\n",
    "\n",
    "Youtube, probablement prochainement, même c’est plus compliqué compte tenu du travail éditorial que j’y ai produit et qui doit représenter un bon livre. Là, atteindre le stade du lâcher prise va me demander plus de travail de déconstruction égotique. Dans le cadre des commentaires de vidéo, j’ai eu la chance de croiser quelques dialecticien.ne.s intéressant.e.s, au milieu d’un océan de débilités.\n",
    "\n",
    "LinkedIn je garde, car je n’ai pas le choix: la discrimination à l’emploi et la quantité de stéréotypes qui justifient l’exclusion malgré les compétences et les réalisations concrètes d’une vie professionnelle pleine font qu’il est pour le moment, sinon impossible, en tout cas radicalement difficile d’y échapper.\n",
    "\n",
    "Deux vidéos que j’ai sélectionnées pour vous qui explicitent mes motivations, et, avant de fermer boutique, pour inciter un maximum d’entre vous à suivre le même mouvement, c'est-à-dire de se barrer vite fait bien fait, avant d’y perdre votre tête, votre esprit critique et votre humanité :\n",
    "\n",
    "Une petite vidéo introductive d'un quart d'heure, 'Brain Hacking' par Tristan Harris, ancien éthicien du design produit chez Google et fondateur du CHT, auteur du documentaire 'The Social Dilemma' disponible sur Netflix : https://www.youtube.com/watch?v=awAMTQZmvPE\n",
    "\n",
    "Et le travail soigné et poussé de Lê sur sa chaîne Science4All :\n",
    "la vidéo à voir si on n'en voit qu'une : https://www.youtube.com/watch?v=utWMGi8HTjY\n",
    "la liste de lecture complète pour faire un tour très complet de la thématique : https://www.youtube.com/playlist?list=PLtzmb84AoqRRFcoGQ5p7kqEVQ7deXfYuH\n",
    "\n",
    "Si e-réseautage social il y a, ce doit être sur la base d’une plateforme communautaire non commerciale qui ne rime donc pas avec intention malveillante et avec manipulation des cerveaux. Framasoft, association à connaître si vous ne connaissez pas, a mis en germination https://joinmastodon.org/ entre autres projets à impact dans le cadre de son mouvement Degooglisons Internet (une 30aine de services alternatifs).\n",
    "\n",
    "Aux junkies de la dopamine, désolé, mais je ne peux plus vous suivre dans ce piège multipolaire.\n",
    "\n",
    "Et à toutes et tous, à bientôt dans la vraie vie !\n",
    "\n",
    "Il est grand temps de rallumer les étoiles.\n",
    "\n",
    "Franck"
   ]
  }
 ],
 "metadata": {
  "kernelspec": {
   "display_name": "Python 3.9.12 ('base')",
   "language": "python",
   "name": "python3"
  },
  "language_info": {
   "name": "python",
   "version": "3.9.12"
  },
  "orig_nbformat": 4,
  "vscode": {
   "interpreter": {
    "hash": "e03b612d84ba21ce95ed447e81b3062e1eb99b56c6d885cdab4aaa12f1b8e240"
   }
  }
 },
 "nbformat": 4,
 "nbformat_minor": 2
}
