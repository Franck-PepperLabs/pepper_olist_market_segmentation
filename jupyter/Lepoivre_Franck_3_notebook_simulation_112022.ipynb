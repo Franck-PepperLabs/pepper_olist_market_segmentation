{
 "cells": [
  {
   "attachments": {},
   "cell_type": "markdown",
   "metadata": {},
   "source": [
    "# **Olist maintenance contract: determining the frequency of updating the model**"
   ]
  },
  {
   "cell_type": "markdown",
   "metadata": {},
   "source": [
    "# **Milestone 4** : Contrat de maintenance – Simulations"
   ]
  },
  {
   "cell_type": "markdown",
   "metadata": {},
   "source": [
    "## Conseils\n",
    "\n",
    "**Livrable** : Notebook de simulation d’évolution des clusters\n",
    "\n",
    "**Charge** : 30%\n",
    "\n",
    "**Problèmes et erreurs courants** :\n",
    "* ⚠ Erreur consistant à ne pas utiliser le « transformer » StandardScaler du fichier qui a servi à l’entraînement du modèle (« fit » du modèle).\n",
    "* ⚠ Erreur consistant à comparer des listes de clusters prédits à 2 dates différentes (cela ne concerne pas les mêmes clients et pas le même nombre, ni les mêmes données de clients).\n",
    "\n",
    "**Recommandations** :\n",
    "* **M41** [21/11] L’objectif est de déterminer au bout de combien de temps le modèle de clustering entraîné initialement proposé (donc « fit ») devient obsolète (quand les prédictions, « predict », ne sont plus pertinentes), nécessitant d’entraîner un nouveau modèle de clustering.\n",
    "*  **M42** [21/11] Pour prendre un exemple, supposons que l’entraînement du modèle initial M0 ait été réalisé à T0 pour un fichier clients F0, qui donne la liste des numéros de clusters C0, CO=M0.fit(F0).\n",
    "*  **M43** [21/11] À T1=T0 +n jours, un nouveau modèle M1 est entraîné sur le nouveau fichier clients F1 à T1, et donne une nouvelle liste de clusters C1, C1_new = M1.fit(F1).\n",
    "*  **M44** [21/11] Si on utilise le modèle initial M0, à T1 la prédiction des numéros de clusters du fichier F1 des clients à T1 donne C1_init = M0.predict(F1).\n",
    "*  **M45** [21/11] Il s’agit de comparer les numéros de clusters à T1 du fichier F1, selon que l’on utilise le modèle initial créé à T0(M0) via un « predict », ou le modèle créé à T1 via un « fit ».\n",
    "Pour un k-means, les numéros de clusters ne correspondent pas forcément d’une simulation à l’autre. Pour mesurer la divergence des clusters, il est conseillé d’utiliser l’ARI, indépendant de la numérotation des clusters.\n",
    "*  **M46** [21/11] Il s’agit donc de simuler plusieurs périodes T1, T2 à Tt, et d’afficher l’évolution de l’ARI. Si l’ARI passe en dessous de 0.8 (correspond environ à 0,9 en accuracy), il est sûrement pertinent de reproposer un entraînement de modèle au client.\n",
    "*  **M47** [21/11] Le fichier clients Fi à date Ti sera créé à partir de toutes les commandes passées jusqu’à Ti. Une fonction permettra de générer ce fichier juste en passant la date du fichier (filtrage de toutes les commandes jusqu’à Ti et création des features).\n",
    "*  **M48** [21/11] Attention, les fichiers Fi sont les fichiers clients transformés par un StandardScaler, celui qui a servi à standardiser les données d’entraînement du modèle concerné. Donc pour le calcul de C1_init, il faut utiliser le StandardScaler du modèle M0 (fit sur le F0), et pour C1_new, celui du M1 (fit sur le F1).\n",
    "*  **M49** [21/11] Le délai entre 2 simulations (« n jours » entre Ti et Ti+1) doit être suffisamment court pour déterminer assez précisément le délai de maintenance du modèle (1 semaine, 15 jours).\n",
    "*  **M410** [21/11] La date de début T0 doit être la plus proche possible de la date de fin du fichier (août 2018), tout en intégrant le délai de simulation de maintenance, non connu au départ. Il faudra donc procéder par itération. Par exemple tester avec T0 au 31/12/2017, et si le délai de maintenance déterminé est de 3 mois (ARI <0.8), refaire une simulation à T0 = août 2018 – 3 ou 4 mois, soit avril ou mai 2018, pour finir la simulation courant août au plus près de la date du fichier complet.\n",
    "*  **M411** [21/11] Une autre solution est de faire une simulation en marche arrière, en faisant attention à faire le « predict » sur le modèle le plus ancien.\n",
    "*  **M412** [21/11] Il peut être intéressant, mais pas obligatoire, de calculer l’accuracy à la place de l’ARI, ce qui nécessite de « recaler » les numéros de clusters entre les 2 listes. Ceci peut se faire en réalisant une matrice de confusion et en utilisant la fonction argmax() pour déterminer la translation de numéro de cluster. Cette transformation ne fonctionne que si l’accuracy est élevée.\n",
    "*  **M413** [21/11] Il peut être intéressant, mais pas obligatoire, de regarder la divergence des clusters par numéro de cluster, le but étant de s’assurer de la stabilité en priorité des clusters de « bons clients ».\n",
    "\n",
    "**Ressources** :\n",
    "* ARI : https://scikit-learn.org/stable/modules/generated/sklearn.metrics.adjusted_rand_score.html"
   ]
  },
  {
   "attachments": {},
   "cell_type": "markdown",
   "metadata": {},
   "source": [
    "## Tips\n",
    "\n",
    "**Deliverable**: Cluster evolution simulation notebook\n",
    "\n",
    "**Load**: 30%\n",
    "\n",
    "**Common problems and errors**:\n",
    "* ⚠ Error consisting of not using the StandardScaler \"transformer\" of the file that was used to train the model (\"fit\" of the model).\n",
    "* ⚠ Error consisting in comparing lists of predicted clusters on 2 different dates (this does not concern the same customers and not the same number, nor the same customer data).\n",
    "\n",
    "**Recommendations**:\n",
    "* **M41** [21/11] The objective is to determine after how long the trained clustering model initially proposed (therefore \"fit\") becomes obsolete (when the predictions, \"predict\", are no longer relevant), requiring the training of a new clustering model.\n",
    "* **M42** [21/11] To take an example, suppose that the training of the initial model $M_0$ was carried out at $T_0$ for a client file $F_0$, which gives the list of cluster numbers $C_0$, $C_0 = M_0.\\text{fit}(F_0)$.\n",
    "* **M43** [21/11] At $T_1 = T_0 + n$ days, a new model $M_1$ is trained on the new customer file $F_1$ at $T_1$, and gives a new list of clusters $C_1$, $C_{1_{new}} = M_1.\\text{fit}(F_1)$.\n",
    "* **M44** [21/11] If we use the initial model M0, at T1 the prediction of the cluster numbers of the file F1 of the clients at T1 gives C1_init = M0.predict(F1).\n",
    "* **M45** [21/11] This involves comparing the cluster numbers at T1 of the F1 file, depending on whether the initial model created at T0(M0) via a \"predict\" is used, or the model created at T1 via a \"fit\".\n",
    "For a k-means, the cluster numbers do not necessarily correspond from one simulation to another. To measure the divergence of the clusters, it is advisable to use the ARI, independent of the numbering of the clusters.\n",
    "* **M46** [21/11] It is therefore a question of simulating several periods T1, T2 to Tt, and of displaying the evolution of the ARI. If the ARI falls below 0.8 (corresponds to approximately 0.9 in accuracy), it is surely appropriate to offer model training to the client again.\n",
    "* **M47** [21/11] The Fi customer file on date Ti will be created from all orders placed up to Ti. A function will generate this file just by passing the date of the file (filtering of all orders up to Ti and creation of features).\n",
    "* **M48** [21/11] Attention, Fi files are client files transformed by a StandardScaler, the one that was used to standardize the training data of the model concerned. So for the calculation of C1_init, you must use the StandardScaler of the M0 model (fit on the F0), and for C1_new, that of the M1 (fit on the F1).\n",
    "* **M49** [21/11] The time between 2 simulations (“n days” between Ti and Ti+1) must be short enough to determine the model maintenance time fairly accurately (1 week, 15 days).\n",
    "* **M410** [21/11] The start date T0 must be as close as possible to the end date of the file (August 2018), while integrating the maintenance simulation time, which was not known at the start. It will therefore be necessary to proceed by iteration. For example, test with T0 on 31/12/2017, and if the determined maintenance period is 3 months (ARI <0.8), repeat a simulation at T0 = August 2018 – 3 or 4 months, i.e. April or May 2018, to finish the simulation in August as close as possible to the date of the complete file.\n",
    "* **M411** [21/11] Another solution is to run a simulation in reverse, being careful to do the \"predict\" on the oldest model.\n",
    "* **M412** [21/11] It may be interesting, but not mandatory, to calculate the accuracy instead of the ARI, which requires “resetting” the cluster numbers between the 2 lists. This can be done by making a confusion matrix and using the argmax() function to determine the cluster number translation. This transformation only works if the accuracy is high.\n",
    "* **M413** [21/11] It may be interesting, but not mandatory, to look at the divergence of clusters by cluster number, the goal being to ensure the stability of the clusters of \"good customers\" as a priority .\n",
    "\n",
    "**Resources** :\n",
    "* ARI: https://scikit-learn.org/stable/modules/generated/sklearn.metrics.adjusted_rand_score.html"
   ]
  },
  {
   "attachments": {},
   "cell_type": "markdown",
   "metadata": {},
   "source": [
    "# Données de base pour les simulations\n",
    "\n",
    "Périodes Ti, fichier Fi, Modèles Mi, etc : faire les fonctions de base."
   ]
  },
  {
   "attachments": {},
   "cell_type": "markdown",
   "metadata": {},
   "source": [
    "# ARI"
   ]
  }
 ],
 "metadata": {
  "kernelspec": {
   "display_name": "base",
   "language": "python",
   "name": "python3"
  },
  "language_info": {
   "name": "python",
   "version": "3.9.12 (main, Apr  4 2022, 05:22:27) [MSC v.1916 64 bit (AMD64)]"
  },
  "orig_nbformat": 4,
  "vscode": {
   "interpreter": {
    "hash": "e03b612d84ba21ce95ed447e81b3062e1eb99b56c6d885cdab4aaa12f1b8e240"
   }
  }
 },
 "nbformat": 4,
 "nbformat_minor": 2
}
